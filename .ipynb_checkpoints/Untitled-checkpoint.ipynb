{
 "cells": [
  {
   "cell_type": "code",
   "execution_count": 1,
   "id": "31bb886a",
   "metadata": {},
   "outputs": [],
   "source": [
    "#pip install numpy"
   ]
  },
  {
   "cell_type": "code",
   "execution_count": 5,
   "id": "d236a088",
   "metadata": {},
   "outputs": [
    {
     "name": "stdout",
     "output_type": "stream",
     "text": [
      "1.24.3\n"
     ]
    }
   ],
   "source": [
    "import numpy as np\n",
    "print(np.__version__) # this is used to detect version"
   ]
  },
  {
   "cell_type": "code",
   "execution_count": 6,
   "id": "1eb747f9",
   "metadata": {},
   "outputs": [
    {
     "data": {
      "text/plain": [
       "array([ 1,  2,  3,  4,  5,  6,  7,  8,  9, 10])"
      ]
     },
     "execution_count": 6,
     "metadata": {},
     "output_type": "execute_result"
    }
   ],
   "source": [
    "# to define numpy datatype\n",
    "l=[1,2,3,4,5,6,7,8,9,10]\n",
    "np_array=np.array(l)\n",
    "np_array"
   ]
  },
  {
   "cell_type": "code",
   "execution_count": 9,
   "id": "79edd882",
   "metadata": {},
   "outputs": [
    {
     "name": "stdout",
     "output_type": "stream",
     "text": [
      "[ 6  7  8  9 10 11 12 13 14 15]\n",
      "[-4 -3 -2 -1  0  1  2  3  4  5]\n",
      "[ 5 10 15 20 25 30 35 40 45 50]\n",
      "[0.2 0.4 0.6 0.8 1.  1.2 1.4 1.6 1.8 2. ]\n"
     ]
    }
   ],
   "source": [
    "#Array is use to save value whereas numpy array is used to peform different operation\n",
    "print(np_array+5)\n",
    "print(np_array-5)\n",
    "print(np_array*5)\n",
    "print(np_array/5)"
   ]
  },
  {
   "cell_type": "code",
   "execution_count": 10,
   "id": "b6ce0353",
   "metadata": {},
   "outputs": [
    {
     "name": "stdout",
     "output_type": "stream",
     "text": [
      "(10,)\n"
     ]
    }
   ],
   "source": [
    "#Shape of array\n",
    "l=[1,2,3,4,5,6,7,8,9,10]\n",
    "np_array=np.array(l)\n",
    "print(np_array.shape)"
   ]
  },
  {
   "cell_type": "code",
   "execution_count": 13,
   "id": "36680ca1",
   "metadata": {},
   "outputs": [
    {
     "name": "stdout",
     "output_type": "stream",
     "text": [
      "(3, 3)\n",
      "int32\n"
     ]
    }
   ],
   "source": [
    "#Making 2d array\n",
    "l=[[1,2,3],[4,5,6],[7,8,9]]\n",
    "np_array=np.array(l)\n",
    "print(np_array.shape)\n",
    "print(np_array.dtype)  #int32 int is datatype 32 is the bit store"
   ]
  },
  {
   "cell_type": "code",
   "execution_count": 15,
   "id": "abe04baa",
   "metadata": {},
   "outputs": [
    {
     "name": "stdout",
     "output_type": "stream",
     "text": [
      "(3, 3, 1)\n",
      "int32\n"
     ]
    }
   ],
   "source": [
    "l=[[[1],[2],[3]],[[4],[5],[6]],[[7],[8],[9]]]\n",
    "np_array=np.array(l)\n",
    "print(np_array.shape)  # here 3,3,1 means 3 row  3 columns  1 means one item\n",
    "print(np_array.dtype) "
   ]
  },
  {
   "cell_type": "code",
   "execution_count": 16,
   "id": "d62d8c0f",
   "metadata": {},
   "outputs": [
    {
     "name": "stdout",
     "output_type": "stream",
     "text": [
      "[[0. 0. 0.]\n",
      " [0. 0. 0.]\n",
      " [0. 0. 0.]]\n",
      "[[1. 1. 1.]\n",
      " [1. 1. 1.]\n",
      " [1. 1. 1.]]\n"
     ]
    }
   ],
   "source": [
    "#numpy.zeros() and numpy.ones()\n",
    "print(np.zeros((3,3))) # this is used to make 3*3 matrix containing all zeros.\n",
    "print(np.ones((3,3)))# this is used to make 3*3 matrix containing all ones."
   ]
  },
  {
   "cell_type": "code",
   "execution_count": 17,
   "id": "c0baea0f",
   "metadata": {},
   "outputs": [
    {
     "data": {
      "text/plain": [
       "array([[1, 2],\n",
       "       [3, 4],\n",
       "       [5, 6]])"
      ]
     },
     "execution_count": 17,
     "metadata": {},
     "output_type": "execute_result"
    }
   ],
   "source": [
    "#to convert the shape of matrix from 2*3 ->3*2 and so on\n",
    "l=[[1,2,3],[4,5,6]]\n",
    "np_array=np.array(l)\n",
    "np_array.reshape(3,2)  # we gonna use reshape method to convert from one to another format of matrix"
   ]
  },
  {
   "cell_type": "code",
   "execution_count": 18,
   "id": "3df2336b",
   "metadata": {},
   "outputs": [
    {
     "name": "stdout",
     "output_type": "stream",
     "text": [
      "[[1 2 3]\n",
      " [4 5 6]]\n",
      "[[1 2]\n",
      " [3 4]\n",
      " [5 6]]\n",
      "[[1 2 3 4 5 6]]\n",
      "[[1]\n",
      " [2]\n",
      " [3]\n",
      " [4]\n",
      " [5]\n",
      " [6]]\n"
     ]
    }
   ],
   "source": [
    "# 6->2*3\n",
    "# 6->3*2\n",
    "# 6->1*6\n",
    "# 6->6*1\n",
    "l=[[1,2,3],[4,5,6]]\n",
    "np_array=np.array(l)\n",
    "print(np_array.reshape(2,3))\n",
    "print(np_array.reshape(3,2))\n",
    "print(np_array.reshape(1,6))\n",
    "print(np_array.reshape(6,1))"
   ]
  },
  {
   "cell_type": "code",
   "execution_count": 19,
   "id": "14002038",
   "metadata": {},
   "outputs": [
    {
     "data": {
      "text/plain": [
       "array([1, 2, 3, 4, 5, 6])"
      ]
     },
     "execution_count": 19,
     "metadata": {},
     "output_type": "execute_result"
    }
   ],
   "source": [
    "l=[[1,2,3],[4,5,6]]\n",
    "np_array=np.array(l)\n",
    "np_array.flatten()  # it auto convert to 1d whatever the matrix is given"
   ]
  },
  {
   "cell_type": "code",
   "execution_count": 20,
   "id": "ed295b20",
   "metadata": {},
   "outputs": [
    {
     "data": {
      "text/plain": [
       "array([ 4,  6,  8, 10, 12, 14, 16,  9, 11])"
      ]
     },
     "execution_count": 20,
     "metadata": {},
     "output_type": "execute_result"
    }
   ],
   "source": [
    "#numpy.hstack() and numpy.vstack()\n",
    "#with hstack we can append data horizontally\n",
    "a=np.array([1,2,3,4,5,6,7,8,9])\n",
    "b=np.array([3,4,5,6,7,8,9,1,2])\n",
    "a+b  # this will perform add operation"
   ]
  },
  {
   "cell_type": "code",
   "execution_count": 22,
   "id": "ff75d505",
   "metadata": {},
   "outputs": [
    {
     "data": {
      "text/plain": [
       "array([1, 2, 3, 4, 5, 6, 7, 8, 9, 3, 4, 5, 6, 7, 8, 9, 1, 2])"
      ]
     },
     "execution_count": 22,
     "metadata": {},
     "output_type": "execute_result"
    }
   ],
   "source": [
    "np.hstack((a,b)) # this will append another stack horizontally"
   ]
  },
  {
   "cell_type": "code",
   "execution_count": 23,
   "id": "137623fe",
   "metadata": {},
   "outputs": [
    {
     "data": {
      "text/plain": [
       "array([[1, 2, 3, 4, 5, 6, 7, 8, 9],\n",
       "       [3, 4, 5, 6, 7, 8, 9, 1, 2]])"
      ]
     },
     "execution_count": 23,
     "metadata": {},
     "output_type": "execute_result"
    }
   ],
   "source": [
    "np.vstack((a,b))# this will append another array vertically means creating another row"
   ]
  },
  {
   "cell_type": "code",
   "execution_count": 24,
   "id": "d630a559",
   "metadata": {},
   "outputs": [
    {
     "name": "stdout",
     "output_type": "stream",
     "text": [
      "[[1 7 6]\n",
      " [2 1 5]\n",
      " [6 2 4]]\n"
     ]
    }
   ],
   "source": [
    "#Random integers between [0,10] og shape 2,2\n",
    "print(np.random.randint(0,10,size=[3,3]))  # for this we use random lib and randint method with parameter range and size=(a,a)"
   ]
  },
  {
   "cell_type": "code",
   "execution_count": 25,
   "id": "b8fd627b",
   "metadata": {},
   "outputs": [
    {
     "name": "stdout",
     "output_type": "stream",
     "text": [
      "[[ 30 286 607 640 811 132 696 499]\n",
      " [677 677 998 499  45 401 923  33]\n",
      " [798 112 109 785 759 828 149 168]\n",
      " [246 962 430 906 784 456 354 650]\n",
      " [456 661 266 917 339 883 213 339]\n",
      " [319 796 735  48 837 338 698 872]\n",
      " [844 769 179 968 722 142 310 884]\n",
      " [ 80 665 603 961  72 792 119 434]]\n"
     ]
    }
   ],
   "source": [
    "print(np.random.randint(1,1000,size=[8,8]))"
   ]
  },
  {
   "cell_type": "code",
   "execution_count": 26,
   "id": "ac7916d2",
   "metadata": {},
   "outputs": [
    {
     "name": "stdout",
     "output_type": "stream",
     "text": [
      "['e' 'i' 'e' 'e' 'o' 'u' 'o' 'a' 'i' 'a']\n"
     ]
    }
   ],
   "source": [
    "#Pick 10 items from a given list with equal probability\n",
    "print(np.random.choice([\"a\",\"e\",\"i\",\"o\",\"u\"],size=10))"
   ]
  },
  {
   "cell_type": "code",
   "execution_count": 27,
   "id": "a42c4041",
   "metadata": {},
   "outputs": [
    {
     "name": "stdout",
     "output_type": "stream",
     "text": [
      "['a' 'o' 'i' 'a' 'o' 'a' 'o' 'u' 'o' 'a']\n"
     ]
    }
   ],
   "source": [
    "#Pick 10 items from a given list with a predefined probability \"p\"\n",
    "print(np.random.choice([\"a\",\"e\",\"i\",\"o\",\"u\"],size=10,p=[0.3,0.1,0.1,0.4,0.1]))"
   ]
  },
  {
   "cell_type": "code",
   "execution_count": 28,
   "id": "bae3db98",
   "metadata": {},
   "outputs": [
    {
     "data": {
      "text/plain": [
       "'C:\\\\Users\\\\Acer\\\\Numpy_ds'"
      ]
     },
     "execution_count": 28,
     "metadata": {},
     "output_type": "execute_result"
    }
   ],
   "source": []
  },
  {
   "cell_type": "code",
   "execution_count": null,
   "id": "94e05e8b",
   "metadata": {},
   "outputs": [],
   "source": []
  }
 ],
 "metadata": {
  "kernelspec": {
   "display_name": "Python 3 (ipykernel)",
   "language": "python",
   "name": "python3"
  },
  "language_info": {
   "codemirror_mode": {
    "name": "ipython",
    "version": 3
   },
   "file_extension": ".py",
   "mimetype": "text/x-python",
   "name": "python",
   "nbconvert_exporter": "python",
   "pygments_lexer": "ipython3",
   "version": "3.11.4"
  }
 },
 "nbformat": 4,
 "nbformat_minor": 5
}
